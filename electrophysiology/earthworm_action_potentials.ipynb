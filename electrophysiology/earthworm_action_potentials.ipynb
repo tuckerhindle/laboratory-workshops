{
 "cells": [
  {
   "attachments": {},
   "cell_type": "markdown",
   "metadata": {},
   "source": [
    "## Exploratory Data Analysis"
   ]
  },
  {
   "attachments": {},
   "cell_type": "markdown",
   "metadata": {},
   "source": [
    "### Pandas"
   ]
  },
  {
   "cell_type": "code",
   "execution_count": null,
   "metadata": {},
   "outputs": [],
   "source": [
    "import pandas as pd"
   ]
  },
  {
   "attachments": {},
   "cell_type": "markdown",
   "metadata": {},
   "source": [
    "### Load Data"
   ]
  },
  {
   "cell_type": "code",
   "execution_count": null,
   "metadata": {},
   "outputs": [],
   "source": [
    "filepath = r\"C:\\Users\\thindle2016\\OneDrive - Florida Atlantic University\\GitHub\\laboratory-workshops\\electrophysiology\\data\\earthworm_55mmLtoG1_59mmLtoG2\\earthworm_55mmLtoG1_59mmLtoG2_32_inverted.csv\"\n",
    "\n",
    "df = pd.read_csv(filepath)\n",
    "df.head()"
   ]
  },
  {
   "attachments": {},
   "cell_type": "markdown",
   "metadata": {},
   "source": [
    "## Data Visualization"
   ]
  },
  {
   "attachments": {},
   "cell_type": "markdown",
   "metadata": {},
   "source": [
    "### Matplotlib and Seaborn"
   ]
  },
  {
   "cell_type": "code",
   "execution_count": null,
   "metadata": {},
   "outputs": [],
   "source": [
    "import matplotlib.pyplot as plt\n",
    "%matplotlib inline\n",
    "#import seaborn as sns; sns.set()"
   ]
  },
  {
   "attachments": {},
   "cell_type": "markdown",
   "metadata": {},
   "source": [
    "### Preprocessing"
   ]
  },
  {
   "cell_type": "code",
   "execution_count": null,
   "metadata": {},
   "outputs": [],
   "source": [
    "y = df['Voltage (mV)']\n",
    "\n",
    "y_min = y.min()\n",
    "y_max = y.max()\n",
    "y_bar = y.mean()\n",
    "s = y.std()\n",
    "\n",
    "df['Voltage Normalized'] = (y - y_bar) / s\n",
    "df.head()"
   ]
  },
  {
   "cell_type": "code",
   "execution_count": null,
   "metadata": {},
   "outputs": [],
   "source": [
    "x = df['Time (ms)']\n",
    "y = df['Voltage Normalized']\n",
    "\n",
    "plt.plot(x, y)"
   ]
  },
  {
   "cell_type": "code",
   "execution_count": null,
   "metadata": {},
   "outputs": [],
   "source": [
    "from scipy.signal import find_peaks\n",
    "import numpy as np"
   ]
  },
  {
   "cell_type": "code",
   "execution_count": null,
   "metadata": {},
   "outputs": [],
   "source": [
    "peaks_max, _ = find_peaks(y, height=1, distance=100)\n",
    "peaks_min, _ = find_peaks(-y, height=0.5, distance=750)\n",
    "baseline = 0.1\n",
    "\n",
    "#np.diff(peaks)\n",
    "\n",
    "plt.plot(y, color='0.7')\n",
    "plt.plot(peaks_max, y[peaks_max], linestyle='None', marker='D', markersize=3, color='r')\n",
    "plt.plot(peaks_min, y[peaks_min], linestyle='None', marker='D', markersize=3, color='k')\n",
    "plt.axhline(baseline, ls='--')\n",
    "\n",
    "plt.show()"
   ]
  },
  {
   "cell_type": "code",
   "execution_count": null,
   "metadata": {},
   "outputs": [],
   "source": [
    "print(peaks_max[1:])\n",
    "print(np.diff(peaks_max))\n",
    "\n",
    "print(peaks_min[1:])\n",
    "print(np.diff(peaks_min))"
   ]
  }
 ],
 "metadata": {
  "kernelspec": {
   "display_name": "py310",
   "language": "python",
   "name": "python3"
  },
  "language_info": {
   "codemirror_mode": {
    "name": "ipython",
    "version": 3
   },
   "file_extension": ".py",
   "mimetype": "text/x-python",
   "name": "python",
   "nbconvert_exporter": "python",
   "pygments_lexer": "ipython3",
   "version": "3.10.9"
  },
  "orig_nbformat": 4
 },
 "nbformat": 4,
 "nbformat_minor": 2
}
